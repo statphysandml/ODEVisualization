{
 "cells": [
  {
   "cell_type": "code",
   "execution_count": null,
   "id": "169b93a3-6d09-4a14-a37d-313c6bafd959",
   "metadata": {},
   "outputs": [],
   "source": [
    "import sys\n",
    "import numpy as np\n",
    "import matplotlib.pyplot as plt\n",
    "\n",
    "from odesolver.gen_ode_system import generate_ode_system"
   ]
  },
  {
   "cell_type": "code",
   "execution_count": null,
   "id": "2d9c4ff4-0271-47b6-a5f0-91afabd44c82",
   "metadata": {
    "tags": []
   },
   "outputs": [],
   "source": [
    "generate_ode_system(output_dir=\"./../../flow_equations/\", project_name=\"Nonlinear System\", flow_equation_path=\"./../../notebooks/nonlinear_system/\")"
   ]
  },
  {
   "cell_type": "code",
   "execution_count": null,
   "id": "52603fc4-5d41-4f41-ab28-f7217a0e802f",
   "metadata": {},
   "outputs": [],
   "source": [
    "!{sys.executable} -m pip install --use-feature=in-tree-build ./../../flow_equations/NonlinearSystem"
   ]
  },
  {
   "cell_type": "markdown",
   "id": "656d8798-5917-40f3-9f84-d4d048a10461",
   "metadata": {},
   "source": [
    "### Evaluating the flow equation at given coordinates"
   ]
  },
  {
   "cell_type": "code",
   "execution_count": null,
   "id": "3e521c91-e120-4159-8766-ddcf172360fd",
   "metadata": {},
   "outputs": [],
   "source": [
    "from nonlinearsystem.nonlinear_system import NonlinearSystem\n",
    "ode_system = NonlinearSystem()\n",
    "print(ode_system.dim)\n",
    "print(ode_system.model)\n",
    "print(ode_system.flow_variable)\n",
    "print(ode_system.flow_parameters)"
   ]
  },
  {
   "cell_type": "code",
   "execution_count": null,
   "id": "1f080c31-60cb-448b-97f0-88421ad5ca13",
   "metadata": {},
   "outputs": [],
   "source": [
    "from odesolver.coordinates import Coordinates\n",
    "coordinates = Coordinates.from_data(np.random.randn(10, 2))\n",
    "print(\"Dim\", coordinates.dim())\n",
    "print(\"Size\", coordinates.size())\n",
    "print(\"Shape\", coordinates.shape)\n",
    "print(\"Coordinates\", coordinates)"
   ]
  },
  {
   "cell_type": "code",
   "execution_count": null,
   "id": "16a87cfb-7edb-4540-bee7-389e844e63e5",
   "metadata": {},
   "outputs": [],
   "source": [
    "print(\"Flow\", ode_system.flow(coordinates))"
   ]
  },
  {
   "cell_type": "markdown",
   "id": "eb6e46ce-6f89-440a-9f76-b04f73b8da7d",
   "metadata": {},
   "source": [
    "### Fixed Point Search"
   ]
  },
  {
   "cell_type": "code",
   "execution_count": null,
   "id": "95a763a4-457d-4def-9119-f94075170d35",
   "metadata": {},
   "outputs": [],
   "source": [
    "from odesolver.recursive_search import RecursiveSearch\n",
    "from odesolver.fixed_point_criterion import FixedPointCriterion\n",
    "from odesolver.kmeans_clustering import KMeansClustering"
   ]
  },
  {
   "cell_type": "code",
   "execution_count": null,
   "id": "b733b927-e7d7-4756-995a-e2d72b0e8243",
   "metadata": {
    "tags": []
   },
   "outputs": [],
   "source": [
    "fixed_point_criterion = FixedPointCriterion()\n",
    "\n",
    "recursive_fixed_point_search = RecursiveSearch(\n",
    "    maximum_recursion_depth=18,\n",
    "    n_branches_per_depth=[[100, 100]] + [[2, 2]] * 17,\n",
    "    variable_ranges=[[-10.0, 10.0], [-10.0, 10.0]],\n",
    "    criterion=fixed_point_criterion,\n",
    "    flow_equations=ode_system,\n",
    "    number_of_cubes_per_gpu_call=2000,\n",
    "    maximum_number_of_gpu_calls=1000\n",
    ")\n",
    "recursive_fixed_point_search.eval(\"dynamic\")"
   ]
  },
  {
   "cell_type": "markdown",
   "id": "a3a9b2e3-478c-42a2-a498-b194814a65e8",
   "metadata": {},
   "source": [
    "#### Solutions"
   ]
  },
  {
   "cell_type": "code",
   "execution_count": null,
   "id": "105c10b8-220c-48e5-81cb-92ff22cd53a7",
   "metadata": {},
   "outputs": [],
   "source": [
    "fixed_points = recursive_fixed_point_search.solutions()\n",
    "print(fixed_points.transpose())"
   ]
  },
  {
   "cell_type": "markdown",
   "id": "d0328537-cd78-41dc-960c-47e33f637246",
   "metadata": {},
   "source": [
    "#### Cube index path of solutions"
   ]
  },
  {
   "cell_type": "code",
   "execution_count": null,
   "id": "f17e1538-46bc-48dc-a96d-dc815190b7b9",
   "metadata": {},
   "outputs": [],
   "source": [
    "fixed_point_cube_indices = recursive_fixed_point_search.solutions(\"cube_indices\")\n",
    "for fixed_point_cube_index in fixed_point_cube_indices:\n",
    "    print(fixed_point_cube_index.depth, fixed_point_cube_index.indices)"
   ]
  },
  {
   "cell_type": "markdown",
   "id": "51a9249e-484b-4901-9173-4d220646846c",
   "metadata": {},
   "source": [
    "#### KMeans clustering of solutions"
   ]
  },
  {
   "cell_type": "code",
   "execution_count": null,
   "id": "ca90fa9d-7c66-41ad-9e15-dcdc69529a71",
   "metadata": {},
   "outputs": [],
   "source": [
    "kmeans_clustering = KMeansClustering(\n",
    "    maximum_expected_number_of_clusters=10,\n",
    "    upper_bound_for_min_distance=0.0005,\n",
    "    maximum_number_of_iterations=10\n",
    ")\n",
    "\n",
    "fixed_points = kmeans_clustering.eval(fixed_points)"
   ]
  },
  {
   "cell_type": "code",
   "execution_count": null,
   "id": "d73f8c16-b60a-45e2-a45a-589a3f49eac4",
   "metadata": {},
   "outputs": [],
   "source": [
    "print(fixed_points)"
   ]
  },
  {
   "cell_type": "markdown",
   "id": "701c9624-a936-4835-b10c-40a80a135607",
   "metadata": {},
   "source": [
    "### Jacobians"
   ]
  },
  {
   "cell_type": "code",
   "execution_count": null,
   "id": "8fb90051-6694-4932-a564-5993367defe0",
   "metadata": {},
   "outputs": [],
   "source": [
    "jacobian_elements = ode_system.jacobians(fixed_points)\n",
    "print(\"Jacobians\\n\", np.array(jacobian_elements.transpose().data).reshape(2, 2, 2))"
   ]
  },
  {
   "cell_type": "code",
   "execution_count": null,
   "id": "3a0e0632-6aa3-4ec6-97f0-2b884050e72d",
   "metadata": {},
   "outputs": [],
   "source": [
    "from odesolver.jacobians import Jacobians\n",
    "jacobians = Jacobians.from_coor(elements=jacobian_elements)\n",
    "jacobians.eval()"
   ]
  },
  {
   "cell_type": "code",
   "execution_count": null,
   "id": "6256c999-543c-43bc-9306-895aea7331ce",
   "metadata": {},
   "outputs": [],
   "source": [
    "for idx in range(fixed_points.size()):\n",
    "    print(\"Jacobian\\n\", jacobians.jacobian(idx))\n",
    "    print(\"Eigenvectors\\n\", jacobians.eigenvectors(idx))\n",
    "    print(\"Eigenvalues\\n\", jacobians.eigenvalues(idx))"
   ]
  },
  {
   "cell_type": "markdown",
   "id": "ba158126-d028-4c43-a299-bcad10f3f5cf",
   "metadata": {},
   "source": [
    "### Visualization"
   ]
  },
  {
   "cell_type": "markdown",
   "id": "12575402-1584-40f5-8c29-a76a1e98a1e1",
   "metadata": {},
   "source": [
    "#### Mesh"
   ]
  },
  {
   "cell_type": "code",
   "execution_count": null,
   "id": "bc19437f-1248-41d5-ab69-6ce98e18830d",
   "metadata": {},
   "outputs": [],
   "source": [
    "from odesolver.mesh import Mesh\n",
    "mesh = Mesh(n_branches=[26, 31], variable_ranges=[[-3.5, 3.5], [-2.0, 3.0]])\n",
    "Y, X = mesh.mgrid()\n",
    "YY, XX = np.mgrid[-2.0:3.0:31j, -3.5:3.5:26j]\n",
    "assert np.all(np.isclose(Y, YY)) and np.all(np.isclose(X, XX))"
   ]
  },
  {
   "cell_type": "code",
   "execution_count": null,
   "id": "9708ffb7-afd1-4a29-bc1e-4071f0c956f9",
   "metadata": {},
   "outputs": [],
   "source": [
    "vertices = mesh.vertices()\n",
    "flow = ode_system.flow(vertices)\n",
    "V, U = mesh.mgrid(data=flow)"
   ]
  },
  {
   "cell_type": "code",
   "execution_count": null,
   "id": "edb3658c-ffb7-469b-be18-5ab0a961971d",
   "metadata": {},
   "outputs": [],
   "source": [
    "fig, ax = plt.subplots(figsize=(8, 8))\n",
    "ax.streamplot(X, Y, U, V, density=[2.0, 2.0], linewidth=1.0, arrowsize=0.7)\n",
    "ax.scatter(fixed_points.data[0, :], fixed_points.data[1, :], s=80, c=\"black\", marker=\"o\");"
   ]
  },
  {
   "cell_type": "markdown",
   "id": "fa1d82f8-3d99-4a0a-aade-c6b6cff80315",
   "metadata": {},
   "source": [
    "### Evolution"
   ]
  },
  {
   "cell_type": "code",
   "execution_count": null,
   "id": "c50a400f-1277-4c59-b036-4e8ee3dc553b",
   "metadata": {},
   "outputs": [],
   "source": [
    "from odesolver.evolution import Evolution\n",
    "from odevisualizationlib.evolution.stepper import RungaKutta4"
   ]
  },
  {
   "cell_type": "markdown",
   "id": "386e36a5-a7de-4861-b429-eb425bcc89a1",
   "metadata": {},
   "source": [
    "#### Sample around fixed points"
   ]
  },
  {
   "cell_type": "code",
   "execution_count": null,
   "id": "ef1a1fec-ddc1-4f8f-9662-fb01ed971276",
   "metadata": {},
   "outputs": [],
   "source": [
    "def sample_around_fixed_points(fixed_points):\n",
    "    samples = Coordinates.generate(dim=2, N=10)\n",
    "    samples[:, :2] = fixed_points.data[:, :2]\n",
    "    samples[:, 2:4] = fixed_points.data[:, :2] + 0.1\n",
    "    samples[:, 4:6] = fixed_points.data[:, :2] - 0.1\n",
    "    samples[0, 6:8] = fixed_points.data[0, :2] + 0.1\n",
    "    samples[1, 6:8] = fixed_points.data[1, :2] - 0.1\n",
    "    samples[0, 8:10] = fixed_points.data[0, :2] - 0.1\n",
    "    samples[1, 8:10] = fixed_points.data[1, :2] + 0.1\n",
    "    return samples"
   ]
  },
  {
   "cell_type": "code",
   "execution_count": null,
   "id": "b4c9b4e4-d35e-45f4-828b-073fe707a12b",
   "metadata": {},
   "outputs": [],
   "source": [
    "samples = sample_around_fixed_points(fixed_points=fixed_points)\n",
    "\n",
    "fig, axes = plt.subplots(ncols= 2, figsize=(12, 6))\n",
    "axes[0].streamplot(X, Y, U, V, density=[1.6, 1.6], linewidth=1.0, arrowsize=0.7)\n",
    "axes[0].scatter(fixed_points.data[0, :], fixed_points.data[1, :], s=80, c=\"black\", marker=\"o\")\n",
    "axes[0].scatter(samples[0, :], samples[1, :], s=80, c=\"red\", marker=\"x\")\n",
    "\n",
    "evolution = Evolution(flow_equations=ode_system)\n",
    "stepper = RungaKutta4()\n",
    "evolution.evolve(coordinates=samples, stepper=stepper, start_t=0.0, dt=0.01, n=300)\n",
    "\n",
    "axes[1].streamplot(X, Y, U, V, density=[1.6, 1.6], linewidth=1.0, arrowsize=0.7)\n",
    "axes[1].scatter(fixed_points.data[0, :], fixed_points.data[1, :], s=80, c=\"black\", marker=\"o\")\n",
    "axes[1].scatter(samples[0, :], samples[1, :], s=80, c=\"red\", marker=\"x\");"
   ]
  },
  {
   "cell_type": "code",
   "execution_count": null,
   "id": "6489e56e-d096-44bf-849c-e9cc54c9a425",
   "metadata": {},
   "outputs": [],
   "source": [
    "samples = sample_around_fixed_points(fixed_points=fixed_points)\n",
    "\n",
    "fig, axes = plt.subplots(ncols= 2, figsize=(12, 6))\n",
    "axes[0].streamplot(X, Y, U, V, density=[1.6, 1.6], linewidth=1.0, arrowsize=0.7)\n",
    "axes[0].scatter(fixed_points.data[0, :], fixed_points.data[1, :], s=80, c=\"black\", marker=\"o\")\n",
    "axes[0].scatter(samples[0, :], samples[1, :], s=80, c=\"red\", marker=\"x\")\n",
    "\n",
    "evolution = Evolution(flow_equations=ode_system)\n",
    "stepper = RungaKutta4()\n",
    "evolution.evolve(coordinates=samples, stepper=stepper, start_t=0.0, dt=-0.002, n=420)\n",
    "\n",
    "axes[1].streamplot(X, Y, U, V, density=[1.6, 1.6], linewidth=1.0, arrowsize=0.7)\n",
    "axes[1].scatter(fixed_points.data[0, :], fixed_points.data[1, :], s=80, c=\"black\", marker=\"o\")\n",
    "axes[1].scatter(samples[0, :], samples[1, :], s=80, c=\"red\", marker=\"x\");"
   ]
  },
  {
   "cell_type": "markdown",
   "id": "31b507a8-be12-4309-a44b-9006d0cd1ff9",
   "metadata": {},
   "source": [
    "### Separatrizes"
   ]
  },
  {
   "cell_type": "code",
   "execution_count": null,
   "id": "9c4e6da6-2a28-4ed6-9286-865c9255d377",
   "metadata": {},
   "outputs": [],
   "source": [
    "from odevisualizationlib.evolution.observer import EvolutionObserver, DivergentFlow, NoChange, OutOfRangeCondition, Intersection\n",
    "divergent_flow = DivergentFlow(ode_system._flow, 1e6)\n",
    "no_change = NoChange([1e-6, 1e-6])\n",
    "out_of_range_condition = OutOfRangeCondition([[-3.5, 3.5], [-2.0, 3.0]])\n",
    "intersection = Intersection([0.1, 0.1], [], [], True)\n",
    "\n",
    "evolution_observer = EvolutionObserver([divergent_flow, no_change, out_of_range_condition, intersection])"
   ]
  },
  {
   "cell_type": "code",
   "execution_count": null,
   "id": "68bca718-8188-4324-90bc-0f71fddf9bd3",
   "metadata": {},
   "outputs": [],
   "source": [
    "from odevisualizationlib.modes import Evolution as VFEvolution\n",
    "vf_evolution = VFEvolution(ode_system._flow)"
   ]
  },
  {
   "cell_type": "code",
   "execution_count": null,
   "id": "4065ef74-cad7-4a85-8e7a-22774038556b",
   "metadata": {},
   "outputs": [],
   "source": [
    "from odevisualizationlib.modes import Separatrizes\n",
    "separatrizes = Separatrizes(10, [0.1, 0.1], 470, ode_system._flow, ode_system._jacobians)\n",
    "stepper = RungaKutta4()"
   ]
  },
  {
   "cell_type": "code",
   "execution_count": null,
   "id": "78e4b741-4746-48c3-ba59-c5c7bbc70f87",
   "metadata": {},
   "outputs": [],
   "source": [
    "separatrizes.eval(fixed_points._devdat, 0.002, vf_evolution, stepper, intersection);"
   ]
  },
  {
   "cell_type": "code",
   "execution_count": null,
   "id": "2676711f-4a2d-409b-a3fe-d7304751c546",
   "metadata": {},
   "outputs": [],
   "source": [
    "detected_intersections = np.array(intersection.detected_intersections())\n",
    "# detected_intersections = detected_intersections[np.all([~np.isnan(detected_intersections[:, 0]), ~np.isnan(detected_intersections[:, 1])], axis=0)]"
   ]
  },
  {
   "cell_type": "code",
   "execution_count": null,
   "id": "866c6ced-4ef0-482f-92ff-3d94ea202c4c",
   "metadata": {},
   "outputs": [],
   "source": [
    "fig, ax = plt.subplots(figsize=(8, 8))\n",
    "ax.streamplot(X, Y, U, V, density=[2.0, 2.0], linewidth=1.0, arrowsize=0.7)\n",
    "ax.scatter(fixed_points.data[0, :], fixed_points.data[1, :], s=80, c=\"black\", marker=\"o\")\n",
    "ax.scatter(detected_intersections[:, 0], detected_intersections[:, 1], s=80, c=\"red\", marker=\"x\")"
   ]
  },
  {
   "cell_type": "markdown",
   "id": "3105f050-550f-4556-a598-5e3235c2f628",
   "metadata": {},
   "source": [
    "#### Evolution Observer"
   ]
  },
  {
   "cell_type": "code",
   "execution_count": null,
   "id": "5e22213c-36ee-4096-b5ad-4bccec2f95cb",
   "metadata": {},
   "outputs": [],
   "source": [
    "from odevisualizationlib.evolution.observer import EvolutionObserver, DivergentFlow, NoChange, OutOfRangeCondition, Intersection\n",
    "divergent_flow = DivergentFlow(ode_system._flow, 1e6)\n",
    "no_change = NoChange([1e-6, 1e-6])\n",
    "out_of_range_condition = OutOfRangeCondition([[-3.5, 3.5], [-2.0, 3.0]])\n",
    "\n",
    "evolution_observer = EvolutionObserver([divergent_flow, no_change, out_of_range_condition])"
   ]
  },
  {
   "cell_type": "code",
   "execution_count": null,
   "id": "2163d17b-c8b0-424e-9e29-083d3f0e5093",
   "metadata": {},
   "outputs": [],
   "source": [
    "coordinates = Coordinates.from_data(np.random.randn(100, 2) * 0.2)\n",
    "coordinates[1, :] = coordinates[1, :] + 1.0\n",
    "fig, ax = plt.subplots(figsize=(8, 8))\n",
    "ax.streamplot(X, Y, U, V, density=[2.0, 2.0], linewidth=1.0, arrowsize=0.7)\n",
    "ax.scatter(coordinates.data[0, :], coordinates.data[1, :], s=80, c=\"black\", marker=\"o\");"
   ]
  },
  {
   "cell_type": "code",
   "execution_count": null,
   "id": "9f708057-f6f9-4a50-83cc-14c8d08ffb7c",
   "metadata": {},
   "outputs": [],
   "source": [
    "evolution = Evolution(flow_equations=ode_system)\n",
    "stepper = RungaKutta4()\n",
    "evolution.evolve(coordinates=coordinates, stepper=stepper, start_t=0.0, dt=-0.01, n=300, observer=evolution_observer, observe_every_ith_time_step=1)"
   ]
  },
  {
   "cell_type": "code",
   "execution_count": null,
   "id": "5f3be75e-ef9e-44fa-ae5c-251557afa788",
   "metadata": {},
   "outputs": [],
   "source": [
    "print(fixed_points)"
   ]
  },
  {
   "cell_type": "code",
   "execution_count": null,
   "id": "8f3bd283-3bd2-401f-8e21-a690be0b644f",
   "metadata": {},
   "outputs": [],
   "source": []
  }
 ],
 "metadata": {
  "kernelspec": {
   "display_name": "Python 3 (ipykernel)",
   "language": "python",
   "name": "python3"
  },
  "language_info": {
   "codemirror_mode": {
    "name": "ipython",
    "version": 3
   },
   "file_extension": ".py",
   "mimetype": "text/x-python",
   "name": "python",
   "nbconvert_exporter": "python",
   "pygments_lexer": "ipython3",
   "version": "3.9.7"
  }
 },
 "nbformat": 4,
 "nbformat_minor": 5
}
